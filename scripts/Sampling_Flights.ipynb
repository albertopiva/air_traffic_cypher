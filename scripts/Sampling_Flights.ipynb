{
 "cells": [
  {
   "cell_type": "markdown",
   "id": "2ef397db",
   "metadata": {},
   "source": [
    "## Sampling Eurocontrol Data\n",
    "\n",
    "This notebook reports the main steps to sample the CSV files about flights and FIRs. In fact, due to the high computational time required to ingesting all fights, we use a sample of 100K flights from the file containing March flights.\n",
    "\n",
    "To measure execution time in Jupyter notebooks: <code>pip install ipython-autotime</code>"
   ]
  },
  {
   "cell_type": "code",
   "execution_count": 1,
   "id": "77f850c4",
   "metadata": {},
   "outputs": [],
   "source": [
    "# required libraries\n",
    "import pandas as pd\n",
    "import os\n",
    "import gc\n",
    "from pathlib import Path\n",
    "from datetime import datetime"
   ]
  },
  {
   "cell_type": "code",
   "execution_count": 2,
   "id": "2364f1e5",
   "metadata": {},
   "outputs": [],
   "source": [
    "# parameters and URLS\n",
    "path = str(Path(os.path.abspath(os.getcwd())).parent.absolute())\n",
    "\n",
    "flightsPath = path + '/data/flights/'\n",
    "marchFlightsURL = flightsPath + 'Flights_20190301_20190331.csv'\n",
    "flightsFIRPath = path + '/data/flights_FIR/'\n",
    "marchFIRsURL = flightsFIRPath + 'Flight_FIRs_Actual_20190301_20190331.csv'\n"
   ]
  },
  {
   "cell_type": "markdown",
   "id": "5164adf7",
   "metadata": {},
   "source": [
    "## Sampling the flights\n",
    "\n",
    "In this section we sample the 100K flights."
   ]
  },
  {
   "cell_type": "code",
   "execution_count": 3,
   "id": "b364e7ec",
   "metadata": {},
   "outputs": [
    {
     "name": "stdout",
     "output_type": "stream",
     "text": [
      "<class 'pandas.core.frame.DataFrame'>\n",
      "Int64Index: 789432 entries, 227743250 to 228593317\n",
      "Data columns (total 17 columns):\n",
      " #   Column                      Non-Null Count   Dtype  \n",
      "---  ------                      --------------   -----  \n",
      " 0   ADEP                        789432 non-null  object \n",
      " 1   ADEP Latitude               788029 non-null  float64\n",
      " 2   ADEP Longitude              788029 non-null  float64\n",
      " 3   ADES                        789432 non-null  object \n",
      " 4   ADES Latitude               787954 non-null  float64\n",
      " 5   ADES Longitude              787954 non-null  float64\n",
      " 6   FILED OFF BLOCK TIME        789432 non-null  object \n",
      " 7   FILED ARRIVAL TIME          789432 non-null  object \n",
      " 8   ACTUAL OFF BLOCK TIME       789432 non-null  object \n",
      " 9   ACTUAL ARRIVAL TIME         789432 non-null  object \n",
      " 10  AC Type                     789432 non-null  object \n",
      " 11  AC Operator                 789432 non-null  object \n",
      " 12  AC Registration             786209 non-null  object \n",
      " 13  ICAO Flight Type            789432 non-null  object \n",
      " 14  STATFOR Market Segment      789432 non-null  object \n",
      " 15  Requested FL                789344 non-null  float64\n",
      " 16  Actual Distance Flown (nm)  789432 non-null  int64  \n",
      "dtypes: float64(5), int64(1), object(11)\n",
      "memory usage: 108.4+ MB\n"
     ]
    }
   ],
   "source": [
    "# Load the CSV file in memory\n",
    "flights = pd.read_csv(marchFlightsURL, sep=',', index_col='ECTRL ID')\n",
    "flights.info()"
   ]
  },
  {
   "cell_type": "code",
   "execution_count": 4,
   "id": "618d396e",
   "metadata": {},
   "outputs": [
    {
     "name": "stdout",
     "output_type": "stream",
     "text": [
      "*** Sample File created ***\n"
     ]
    }
   ],
   "source": [
    "# Create the file with 100K flights\n",
    "sample = flights[:100000]\n",
    "sample.to_csv(flightsPath + 'Flights_marchSample.csv', sep=',')\n",
    "print('*** Sample File created ***')"
   ]
  },
  {
   "cell_type": "markdown",
   "id": "eac44217",
   "metadata": {},
   "source": [
    "## Sampling the FIRs\n",
    "\n",
    "In this section we handle FIRs. We sample the csv file about FIRs up to the row containing the last checkpoint of the last flight stored in the sample. We retrieve the number of such row just by looking at the csv file with a simple text editor. \n",
    "\n",
    "Then we check if we have data for all flights stored in the flights sample and if we have extra date, i.e. checkpoints of flights not stored in the flights sample."
   ]
  },
  {
   "cell_type": "code",
   "execution_count": 5,
   "id": "15edac28",
   "metadata": {},
   "outputs": [
    {
     "name": "stdout",
     "output_type": "stream",
     "text": [
      "<class 'pandas.core.frame.DataFrame'>\n",
      "RangeIndex: 6022352 entries, 0 to 6022351\n",
      "Data columns (total 5 columns):\n",
      " #   Column           Dtype \n",
      "---  ------           ----- \n",
      " 0   ECTRL ID         int64 \n",
      " 1   Sequence Number  int64 \n",
      " 2   FIR ID           object\n",
      " 3   Entry Time       object\n",
      " 4   Exit Time        object\n",
      "dtypes: int64(2), object(3)\n",
      "memory usage: 229.7+ MB\n"
     ]
    }
   ],
   "source": [
    "# Load the CSV file in memory\n",
    "firs = firs = pd.read_csv(marchFIRsURL, sep=',')\n",
    "firs.info()"
   ]
  },
  {
   "cell_type": "markdown",
   "id": "3144796f",
   "metadata": {},
   "source": [
    "If we do not run this section right after the previous one we need to load the sample file about flights in memory."
   ]
  },
  {
   "cell_type": "code",
   "execution_count": 6,
   "id": "b5fd2416",
   "metadata": {},
   "outputs": [
    {
     "name": "stdout",
     "output_type": "stream",
     "text": [
      "<class 'pandas.core.frame.DataFrame'>\n",
      "Int64Index: 100000 entries, 227743250 to 227849442\n",
      "Data columns (total 17 columns):\n",
      " #   Column                      Non-Null Count   Dtype  \n",
      "---  ------                      --------------   -----  \n",
      " 0   ADEP                        100000 non-null  object \n",
      " 1   ADEP Latitude               99846 non-null   float64\n",
      " 2   ADEP Longitude              99846 non-null   float64\n",
      " 3   ADES                        100000 non-null  object \n",
      " 4   ADES Latitude               99844 non-null   float64\n",
      " 5   ADES Longitude              99844 non-null   float64\n",
      " 6   FILED OFF BLOCK TIME        100000 non-null  object \n",
      " 7   FILED ARRIVAL TIME          100000 non-null  object \n",
      " 8   ACTUAL OFF BLOCK TIME       100000 non-null  object \n",
      " 9   ACTUAL ARRIVAL TIME         100000 non-null  object \n",
      " 10  AC Type                     100000 non-null  object \n",
      " 11  AC Operator                 100000 non-null  object \n",
      " 12  AC Registration             99638 non-null   object \n",
      " 13  ICAO Flight Type            100000 non-null  object \n",
      " 14  STATFOR Market Segment      100000 non-null  object \n",
      " 15  Requested FL                99992 non-null   float64\n",
      " 16  Actual Distance Flown (nm)  100000 non-null  int64  \n",
      "dtypes: float64(5), int64(1), object(11)\n",
      "memory usage: 13.7+ MB\n"
     ]
    }
   ],
   "source": [
    "# Load the CSV file about flights in memory \n",
    "sample = pd.read_csv(flightsPath + 'Flights_marchSample.csv', sep=',', index_col='ECTRL ID')\n",
    "sample.info()"
   ]
  },
  {
   "cell_type": "code",
   "execution_count": 8,
   "id": "d82792da",
   "metadata": {},
   "outputs": [
    {
     "name": "stdout",
     "output_type": "stream",
     "text": [
      "Dropped 0 rows\n",
      "We have DATA FOR ALL FLIGHTS in the sample\n",
      "CPU times: user 1min 10s, sys: 7.89 s, total: 1min 18s\n",
      "Wall time: 1min 9s\n"
     ]
    }
   ],
   "source": [
    "%%time\n",
    "sampledFIRs = firs[:773544] \n",
    "missing_data = [] # List of flights in the sample with no FIR data\n",
    "count = 0\n",
    "prev = 0\n",
    "stored = False\n",
    "\n",
    "# Check if we have data for flights not stored in the sample and drop them\n",
    "for index, row in sampledFIRs.iterrows():\n",
    "    \n",
    "    flight = row['ECTRL ID']\n",
    "    \n",
    "    if(prev == flight):\n",
    "        if(not stored):\n",
    "            count += 1\n",
    "            test.drop(index=index)\n",
    "    else:\n",
    "        prev = flight\n",
    "        if(not ((sample.index == flight).any() == True)):\n",
    "            count += 1\n",
    "            stored = False\n",
    "            test.drop(index=index)\n",
    "        else:\n",
    "            stored = True\n",
    "        \n",
    "print('Dropped ' + str(count) + ' rows')\n",
    "\n",
    "prev = 0\n",
    "found = False\n",
    "\n",
    "# Check if we have data for all flights in the sample\n",
    "for index, row in sample.iterrows():  \n",
    "    \n",
    "    if(prev == index):\n",
    "        if(not found):\n",
    "            missing_data.append(index)\n",
    "    else:\n",
    "        prev = index\n",
    "        if(not ((index == sampledFIRs['ECTRL ID'].values).any() == True)):\n",
    "            found = False\n",
    "            missing_data.append(index)\n",
    "        else:\n",
    "            found = True\n",
    "\n",
    "if(len(missing_data) == 0):\n",
    "    print('We have DATA FOR ALL FLIGHTS in the sample')\n",
    "else:\n",
    "    print('MISSING DATA for some flights in the sample')"
   ]
  },
  {
   "cell_type": "markdown",
   "id": "61438cfe",
   "metadata": {},
   "source": [
    "No further actions are needed since there is no missing data and we have data for all flights stored in the sample."
   ]
  },
  {
   "cell_type": "code",
   "execution_count": 9,
   "id": "c9843db3",
   "metadata": {},
   "outputs": [
    {
     "name": "stdout",
     "output_type": "stream",
     "text": [
      "*** Sample File created ***\n"
     ]
    }
   ],
   "source": [
    "sampledFIRs.to_csv(flightsFIRPath + 'Flight_FIRs_Actual_marchSample.csv', sep=',', index=False)\n",
    "print('*** Sample File created ***')"
   ]
  },
  {
   "cell_type": "code",
   "execution_count": null,
   "id": "4072d645",
   "metadata": {},
   "outputs": [],
   "source": []
  }
 ],
 "metadata": {
  "kernelspec": {
   "display_name": "Python 3",
   "language": "python",
   "name": "python3"
  },
  "language_info": {
   "codemirror_mode": {
    "name": "ipython",
    "version": 3
   },
   "file_extension": ".py",
   "mimetype": "text/x-python",
   "name": "python",
   "nbconvert_exporter": "python",
   "pygments_lexer": "ipython3",
   "version": "3.8.8"
  }
 },
 "nbformat": 4,
 "nbformat_minor": 5
}
