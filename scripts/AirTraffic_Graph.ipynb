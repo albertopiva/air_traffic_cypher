{
 "cells": [
  {
   "cell_type": "markdown",
   "metadata": {},
   "source": [
    "## Populate a Property Graph\n",
    "\n",
    "This notebook reports the main steps to download CSV files, process them and create a property graph.\n",
    "\n",
    "To measure execution time in Jupyter notebooks: <code>pip install ipython-autotime</code>\n",
    "\n",
    "To connect to Neo4j: <code>pip install neo4j</code>\n",
    "\n"
   ]
  },
  {
   "cell_type": "code",
   "execution_count": 2,
   "metadata": {},
   "outputs": [],
   "source": [
    "# Required libraries\n",
    "import pandas as pd\n",
    "import os\n",
    "import gc\n",
    "from pathlib import Path\n",
    "from datetime import datetime"
   ]
  },
  {
   "cell_type": "markdown",
   "metadata": {
    "tags": []
   },
   "source": [
    "### Connection to Neo4j"
   ]
  },
  {
   "cell_type": "code",
   "execution_count": 3,
   "metadata": {},
   "outputs": [],
   "source": [
    "# Neo4J params class\n",
    "class Neo4jParams:\n",
    "  def __init__(self, user, psw,dbname,db_psw,uri):\n",
    "    self.user = user\n",
    "    self.psw = psw\n",
    "    self.dbname = dbname\n",
    "    self.dbpsw = dbpsw\n",
    "    self.uri = uri"
   ]
  },
  {
   "cell_type": "code",
   "execution_count": 4,
   "metadata": {},
   "outputs": [],
   "source": [
    "#DB parameters\n",
    "\n",
    "user=\"neo4j\"\n",
    "#psw=\"password\"\n",
    "psw=\"AirTraffic_DB\"\n",
    "dbname=\"neo4j\"\n",
    "dbpsw=\"AirTraffic_DB\"\n",
    "uri = \"bolt://localhost:7687\"\n",
    "\n",
    "params = Neo4jParams(user,psw,dbname,dbpsw,uri)\n"
   ]
  },
  {
   "cell_type": "code",
   "execution_count": 5,
   "metadata": {},
   "outputs": [
    {
     "name": "stdout",
     "output_type": "stream",
     "text": [
      "hello, world, from node 186954\n"
     ]
    }
   ],
   "source": [
    "from neo4j import GraphDatabase\n",
    "\n",
    "# test class\n",
    "\n",
    "class Driver:\n",
    "\n",
    "    def __init__(self, uri, user, password):\n",
    "        self.driver = GraphDatabase.driver(uri, auth=(user, password))\n",
    "\n",
    "    def close(self):\n",
    "        self.driver.close()\n",
    "\n",
    "    def print_greeting(self, message):\n",
    "        with self.driver.session() as session:\n",
    "            greeting = session.write_transaction(self._create_and_return_greeting, message)\n",
    "            print(greeting)\n",
    "\n",
    "    @staticmethod\n",
    "    def _create_and_return_greeting(tx, message):\n",
    "        result = tx.run(\"CREATE (a:Greeting) \"\n",
    "                        \"SET a.message = $message \"\n",
    "                        \"RETURN a.message + ', from node ' + id(a)\", message=message)\n",
    "        return result.single()[0]\n",
    "\n",
    "\n",
    "if __name__ == \"__main__\":\n",
    "    greeter = Driver(\"bolt://localhost:7687\", \"neo4j\", \"AirTraffic_DB\")\n",
    "    greeter.print_greeting(\"hello, world\")\n",
    "    greeter.close()"
   ]
  },
  {
   "cell_type": "markdown",
   "metadata": {
    "tags": []
   },
   "source": [
    "## Data ingestion"
   ]
  },
  {
   "cell_type": "code",
   "execution_count": 6,
   "metadata": {},
   "outputs": [],
   "source": [
    "# Parameters and URLS\n",
    "path = str(Path(os.path.abspath(os.getcwd())).parent.absolute())\n",
    "\n",
    "flightsPath = path + '/data/flights/'\n",
    "flightsFIRPath = path + '/data/flights_FIR/'\n",
    "\n",
    "sampledFlightsURL = flightsPath + 'Flights_marchSample.csv'\n",
    "sampledFIRsURL = flightsFIRPath + 'Flight_FIRs_Actual_marchSample.csv'\n",
    "airportsURL = path + '/data/airport-codes.csv'\n",
    "aircraftURL = path + '/data/aircraft.csv'\n",
    "aircraftTypesURL = path + '/data/doc8643AircraftTypes.csv'\n",
    "airlineURL = path + '/data/airline.csv'\n",
    "manufacturersURL = path + '/data/doc8643Manufacturers.csv'\n",
    "\n",
    "# Country codes\n",
    "countriesURL = path + '/data/wikipedia-iso-country-codes.csv'\n",
    "\n",
    "# Cities codes\n",
    "citiesURL = path + '/data/world-cities_csv.csv'\n",
    "\n",
    "# FIR codes from wikipedia\n",
    "firWikiUrl = path + '/data/fir_wiki.csv'\n",
    "\n",
    "# FIR coordinates\n",
    "firCoordURL = flightsFIRPath + '/FIR_1904.csv'"
   ]
  },
  {
   "cell_type": "markdown",
   "metadata": {},
   "source": [
    "### Constraints\n",
    "In this section we create all the constraints we need in the database."
   ]
  },
  {
   "cell_type": "code",
   "execution_count": 6,
   "metadata": {},
   "outputs": [],
   "source": [
    "# Connect to the DB\n",
    "driver = GraphDatabase.driver(params.uri, auth=(params.dbname, params.dbpsw))\n",
    "# Create a session\n",
    "session = driver.session()"
   ]
  },
  {
   "cell_type": "code",
   "execution_count": 7,
   "metadata": {},
   "outputs": [
    {
     "data": {
      "text/plain": [
       "<neo4j.work.result.Result at 0x117750280>"
      ]
     },
     "execution_count": 7,
     "metadata": {},
     "output_type": "execute_result"
    }
   ],
   "source": [
    "# Unique Node Constraints\n",
    "\n",
    "session.run(\"CREATE CONSTRAINT flight_id IF NOT EXISTS ON (f:Flight) ASSERT f.id IS UNIQUE\")\n",
    "session.run(\"CREATE CONSTRAINT airport_id IF NOT EXISTS ON (a:Airport) ASSERT a.icao IS UNIQUE\")\n",
    "session.run(\"CREATE CONSTRAINT city_id IF NOT EXISTS ON (c:City) ASSERT c.id IS UNIQUE\")\n",
    "session.run(\"CREATE CONSTRAINT country_id IF NOT EXISTS ON (c:Country) ASSERT c.isocode IS UNIQUE\")\n",
    "session.run(\"CREATE CONSTRAINT airspace_id IF NOT EXISTS ON (f:Airspace) ASSERT (f.icao, f.type) IS NODE KEY\")\n",
    "session.run(\"CREATE CONSTRAINT airline_id IF NOT EXISTS ON (a:Airline) ASSERT a.icao IS UNIQUE\")\n",
    "session.run(\"CREATE CONSTRAINT aircraft_id IF NOT EXISTS ON (a:AircraftModel) ASSERT a.icao IS UNIQUE\")\n",
    "session.run(\"CREATE CONSTRAINT manufacturer_id IF NOT EXISTS ON (m:Manufacturer) ASSERT m.code IS UNIQUE\")"
   ]
  },
  {
   "cell_type": "code",
   "execution_count": 8,
   "metadata": {},
   "outputs": [],
   "source": [
    "driver.close()"
   ]
  },
  {
   "cell_type": "markdown",
   "metadata": {},
   "source": [
    "### Countries"
   ]
  },
  {
   "cell_type": "code",
   "execution_count": 9,
   "metadata": {},
   "outputs": [
    {
     "name": "stdout",
     "output_type": "stream",
     "text": [
      "<class 'pandas.core.frame.DataFrame'>\n",
      "Index: 246 entries, AF to ZW\n",
      "Data columns (total 4 columns):\n",
      " #   Column                         Non-Null Count  Dtype \n",
      "---  ------                         --------------  ----- \n",
      " 0   English short name lower case  246 non-null    object\n",
      " 1   Alpha-3 code                   246 non-null    object\n",
      " 2   Numeric code                   246 non-null    int64 \n",
      " 3   ISO 3166-2                     246 non-null    object\n",
      "dtypes: int64(1), object(3)\n",
      "memory usage: 9.6+ KB\n"
     ]
    }
   ],
   "source": [
    "# Load the CSV files in memory\n",
    "countries = pd.read_csv(countriesURL, sep=';', index_col='Alpha-2 code', keep_default_na=False, na_values=['_'])\n",
    "countries.info()"
   ]
  },
  {
   "cell_type": "code",
   "execution_count": 10,
   "metadata": {},
   "outputs": [],
   "source": [
    "# Connect to the DB\n",
    "driver = GraphDatabase.driver(params.uri, auth=(params.dbname, params.dbpsw))\n",
    "# Create a session\n",
    "session = driver.session()"
   ]
  },
  {
   "cell_type": "code",
   "execution_count": 11,
   "metadata": {},
   "outputs": [
    {
     "name": "stdout",
     "output_type": "stream",
     "text": [
      "CPU times: user 380 ms, sys: 37.6 ms, total: 418 ms\n",
      "Wall time: 13.4 s\n"
     ]
    }
   ],
   "source": [
    "%%time \n",
    "#measure execution time\n",
    "\n",
    "# Iterate over the countries dataframe\n",
    "for index, row in countries.iterrows():\n",
    "    \n",
    "    country = str(index)\n",
    "    name = str(row['English short name lower case'])\n",
    "    # Check country or create it\n",
    "    session.run(\"MERGE (c:Country{isocode: $isocode})\", isocode=country)\n",
    "    # Add node property\n",
    "    session.run(\"MATCH (c:Country{isocode: $isocode}) SET c.name = $name\", isocode=country, name=name)\n",
    "    "
   ]
  },
  {
   "cell_type": "code",
   "execution_count": 12,
   "metadata": {},
   "outputs": [],
   "source": [
    "driver.close()"
   ]
  },
  {
   "cell_type": "markdown",
   "metadata": {
    "tags": []
   },
   "source": [
    "### Airports and Cities\n",
    "In this section we model the airports and the cities. In order to match efficiently each airport with the correct city we create a dictionary of cities indexed with the iso-code of the country each city belongs to. Then, if we find data about new cities in the airports file we add them to our cities modelling. "
   ]
  },
  {
   "cell_type": "markdown",
   "metadata": {},
   "source": [
    "#### Indexing the Cities\n",
    "Firstly, we create the dictionary with the cities indexed by country. "
   ]
  },
  {
   "cell_type": "code",
   "execution_count": 13,
   "metadata": {},
   "outputs": [
    {
     "name": "stdout",
     "output_type": "stream",
     "text": [
      "<class 'pandas.core.frame.DataFrame'>\n",
      "Int64Index: 23018 entries, 3040051 to 1106542\n",
      "Data columns (total 3 columns):\n",
      " #   Column      Non-Null Count  Dtype \n",
      "---  ------      --------------  ----- \n",
      " 0   name        23018 non-null  object\n",
      " 1   country     23018 non-null  object\n",
      " 2   subcountry  23018 non-null  object\n",
      "dtypes: object(3)\n",
      "memory usage: 719.3+ KB\n",
      "<class 'pandas.core.frame.DataFrame'>\n",
      "Index: 246 entries, Afghanistan to Zimbabwe\n",
      "Data columns (total 4 columns):\n",
      " #   Column        Non-Null Count  Dtype \n",
      "---  ------        --------------  ----- \n",
      " 0   Alpha-2 code  246 non-null    object\n",
      " 1   Alpha-3 code  246 non-null    object\n",
      " 2   Numeric code  246 non-null    int64 \n",
      " 3   ISO 3166-2    246 non-null    object\n",
      "dtypes: int64(1), object(3)\n",
      "memory usage: 9.6+ KB\n"
     ]
    }
   ],
   "source": [
    "# Load the CSV files in memory\n",
    "cities = pd.read_csv(citiesURL, sep=',', index_col='geonameid', keep_default_na=False, na_values=['_'])\n",
    "cities.info()\n",
    "countries = pd.read_csv(countriesURL, sep=';', index_col='English short name lower case', keep_default_na=False, na_values=['_'])\n",
    "countries.info()"
   ]
  },
  {
   "cell_type": "code",
   "execution_count": 14,
   "metadata": {},
   "outputs": [
    {
     "name": "stdout",
     "output_type": "stream",
     "text": [
      "Dictionary Created\n"
     ]
    }
   ],
   "source": [
    "# Creation of the structure\n",
    "citiesByCountry = {}\n",
    "    \n",
    "# Iterate over the cities dataframe\n",
    "for index, row in cities.iterrows():\n",
    "    \n",
    "    ## Match country\n",
    "    cName = str(row['country'])\n",
    "    # check if the country exists\n",
    "    # country.index == x returns an array of booleans, thus we need to use the any() method\n",
    "    if((countries.index == cName).any() == True):\n",
    "        #get the country code, convert to string and get the lower case to match the country codes in the contology \n",
    "        code = str(countries[countries.index == cName]['Alpha-2 code'][0])\n",
    "        matched = False\n",
    "        if(code not in citiesByCountry): #create a new country before appending the city\n",
    "            citiesByCountry.update({code:[]})\n",
    "        #check we do not insert again the same city\n",
    "        else:\n",
    "            for city in citiesByCountry[code]:\n",
    "                if(city[0] == str(row['name'])):\n",
    "                    matched = True\n",
    "                    break\n",
    "        if(not matched):\n",
    "            #append the city to the country   \n",
    "            citiesByCountry[code].append([row['name'], \"C\"+str(index)])\n",
    "        \n",
    "print(\"Dictionary Created\")\n"
   ]
  },
  {
   "cell_type": "markdown",
   "metadata": {
    "tags": []
   },
   "source": [
    "#### Airports Modelling"
   ]
  },
  {
   "cell_type": "code",
   "execution_count": 15,
   "metadata": {},
   "outputs": [
    {
     "name": "stdout",
     "output_type": "stream",
     "text": [
      "<class 'pandas.core.frame.DataFrame'>\n",
      "Index: 57421 entries, 00A to ZZZZ\n",
      "Data columns (total 11 columns):\n",
      " #   Column        Non-Null Count  Dtype  \n",
      "---  ------        --------------  -----  \n",
      " 0   type          57421 non-null  object \n",
      " 1   name          57421 non-null  object \n",
      " 2   elevation_ft  49608 non-null  float64\n",
      " 3   continent     28978 non-null  object \n",
      " 4   iso_country   57175 non-null  object \n",
      " 5   iso_region    57421 non-null  object \n",
      " 6   municipality  51527 non-null  object \n",
      " 7   gps_code      41561 non-null  object \n",
      " 8   iata_code     9225 non-null   object \n",
      " 9   local_code    30030 non-null  object \n",
      " 10  coordinates   57421 non-null  object \n",
      "dtypes: float64(1), object(10)\n",
      "memory usage: 5.3+ MB\n"
     ]
    }
   ],
   "source": [
    "# Load the CSV files in memory\n",
    "airports = pd.read_csv(airportsURL, sep=',', index_col='ident')\n",
    "airports.info()"
   ]
  },
  {
   "cell_type": "code",
   "execution_count": 16,
   "metadata": {},
   "outputs": [],
   "source": [
    "# Connect to the DB\n",
    "driver = GraphDatabase.driver(params.uri, auth=(params.dbname, params.dbpsw))\n",
    "# Create a session\n",
    "session = driver.session()"
   ]
  },
  {
   "cell_type": "code",
   "execution_count": 17,
   "metadata": {},
   "outputs": [
    {
     "name": "stdout",
     "output_type": "stream",
     "text": [
      "*** Added the first 1K airports ***\n",
      "*** 10K Airports added ***\n",
      "*** 10K Airports added ***\n",
      "*** 10K Airports added ***\n",
      "*** 10K Airports added ***\n",
      "***\n",
      "*** ADDED IN TOTAL 41561 AIRPORTS ***\n",
      "***\n",
      "CPU times: user 4min 59s, sys: 18.5 s, total: 5min 18s\n",
      "Wall time: 56min 41s\n"
     ]
    }
   ],
   "source": [
    "%%time \n",
    "#measure execution time\n",
    "\n",
    "count=0 \n",
    "noMatch=0\n",
    "\n",
    "# Iterate over the airports dataframe\n",
    "for index, row in airports.iterrows():\n",
    "    \n",
    "    if(pd.isnull(row['gps_code'])): continue\n",
    "        \n",
    "    airport = str(row['gps_code'])\n",
    "    \n",
    "    # Extract coordinates\n",
    "    longitude = float(str(row['coordinates']).split(', ')[0])\n",
    "    latitude = float(str(row['coordinates']).split(', ')[1])\n",
    "    \n",
    "    # check airport or create it\n",
    "    session.run(\"MERGE (a:Airport{icao: $icao})\", icao=airport)\n",
    "    # Set data property\n",
    "    session.run(\"MATCH (a:Airport{icao: $icao}) SET a.name=$name, a.type=$aptype, \" +\n",
    "                    \"a.coordinates=point({latitude: $lat, longitude: $long, crs: 'wgs-84'})\", \n",
    "                    icao=airport, name=str(row['name']), aptype=str(row['type']), lat=latitude, long=longitude)\n",
    "    count+=1\n",
    "\n",
    "    ## Handle cities, note that not all airports have data about city\n",
    "    # but every airport that have city data also have iso_country data\n",
    "    if(not pd.isnull(row['municipality'])):\n",
    "        \n",
    "        # Strip space and uppercase to avoid mismatching for multiple names cities\n",
    "        cName = str(row['municipality']).replace(\" \",\"\").lower()\n",
    "        \n",
    "        matched = False\n",
    "        try:\n",
    "            for city in citiesByCountry[str(row['iso_country'])]:\n",
    "                \n",
    "                check = city[0].replace(\" \",\"\").lower() \n",
    "                \n",
    "                if(cName == check):\n",
    "                    \n",
    "                    city = str(city[1])\n",
    "                    # Check city or create it\n",
    "                    session.run(\"MERGE (c:City{id: $geoid})\", geoid=city)\n",
    "                    # Create the relationship\n",
    "                    session.run(\"MATCH (c:City{id: $geoid}),(a:Airport{icao: $icao}) \" +\n",
    "                                   \"MERGE (a)-[:LOCATED]->(c)\", geoid=city, icao=airport)\n",
    "                    matched = True\n",
    "                    # Once we find the correct city there is no need to keep iterating\n",
    "                    break \n",
    "            # No match with existing cities, we create a new city        \n",
    "            if(not matched): \n",
    "                noMatch += 1\n",
    "                newCode = \"N\"+str(noMatch).zfill(6)  \n",
    "                # Add the new city to the dictionary\n",
    "                citiesByCountry[str(row['iso_country'])].append([str(row['municipality']), newCode])\n",
    "                # Check city or create it\n",
    "                session.run(\"MERGE (c:City{id: $geoid})\", geoid=newCode)\n",
    "                # Create the relationship\n",
    "                session.run(\"MATCH (c:City{id: $geoid}),(a:Airport{icao: $icao}) \" +\n",
    "                               \"MERGE (a)-[:LOCATED]->(c)\", geoid=newCode, icao=airport)    \n",
    "                \n",
    "        # We skip airport countries not in the dictionary\n",
    "        except KeyError: continue\n",
    "    \n",
    "    if(count==1000): print(\"*** Added the first 1K airports ***\")\n",
    "     \n",
    "    if(count%10000==0): print(\"*** 10K Airports added ***\")\n",
    "               \n",
    "print('***')        \n",
    "print('*** ADDED IN TOTAL ' + str(count) + ' AIRPORTS ***')\n",
    "print('***') \n"
   ]
  },
  {
   "cell_type": "code",
   "execution_count": 18,
   "metadata": {},
   "outputs": [],
   "source": [
    "driver.close()"
   ]
  },
  {
   "cell_type": "markdown",
   "metadata": {
    "tags": []
   },
   "source": [
    "#### Cities Modelling\n",
    "We model the cities using the dictionary we already created so we avoid matching again the countries and cities files."
   ]
  },
  {
   "cell_type": "code",
   "execution_count": 19,
   "metadata": {},
   "outputs": [],
   "source": [
    "# Connect to the DB\n",
    "driver = GraphDatabase.driver(params.uri, auth=(params.dbname, params.dbpsw))\n",
    "# Create a session\n",
    "session = driver.session()"
   ]
  },
  {
   "cell_type": "code",
   "execution_count": 20,
   "metadata": {},
   "outputs": [
    {
     "name": "stdout",
     "output_type": "stream",
     "text": [
      "*** Added the first 1K cities ***\n",
      "*** 10K Cities added ***\n",
      "*** 10K Cities added ***\n",
      "*** 10K Cities added ***\n",
      "Modelled 35352 cities\n",
      "CPU times: user 2min 5s, sys: 11.9 s, total: 2min 17s\n",
      "Wall time: 35min 10s\n"
     ]
    }
   ],
   "source": [
    "%%time \n",
    "#measure execution time\n",
    "\n",
    "count=0\n",
    "# Iterate over the dictionary\n",
    "for country in citiesByCountry:\n",
    "    # Check country or create it\n",
    "    session.run(\"MERGE (c:Country{isocode: $isocode})\", isocode=country)\n",
    "    for city in citiesByCountry[country]:\n",
    "        \n",
    "        code = str(city[1])\n",
    "        # Check city or create it\n",
    "        session.run(\"MERGE (c:City{id: $geoid})\", geoid=code)\n",
    "        # Add node property\n",
    "        session.run(\"MATCH (c:City{id: $geoid}) SET c.name = $name\", \n",
    "                        geoid=code, name=str(city[0]))\n",
    "        # Create the relationship\n",
    "        session.run(\"MATCH (ct:City{id: $geoid}),(cn:Country{isocode: $isocode}) \" +\n",
    "                               \"MERGE (ct)-[:BELONGSTO]->(cn)\", geoid=code, isocode=country) \n",
    "        \n",
    "        count+=1\n",
    "        if(count==1000): print(\"*** Added the first 1K cities ***\")\n",
    "        if(count%10000==0): print(\"*** 10K Cities added ***\")\n",
    "\n",
    "print(\"Modelled \" + str(count) + \" cities\")   "
   ]
  },
  {
   "cell_type": "code",
   "execution_count": 21,
   "metadata": {},
   "outputs": [],
   "source": [
    "driver.close()"
   ]
  },
  {
   "cell_type": "markdown",
   "metadata": {
    "tags": []
   },
   "source": [
    "### Manufacturers\n",
    "\n",
    "In this section we ingest the manufacturers."
   ]
  },
  {
   "cell_type": "code",
   "execution_count": 22,
   "metadata": {},
   "outputs": [],
   "source": [
    "# Connect to the DB\n",
    "driver = GraphDatabase.driver(params.uri, auth=(params.dbname, params.dbpsw))\n",
    "# Create a session\n",
    "session = driver.session()"
   ]
  },
  {
   "cell_type": "code",
   "execution_count": 23,
   "metadata": {},
   "outputs": [
    {
     "name": "stdout",
     "output_type": "stream",
     "text": [
      "<class 'pandas.core.frame.DataFrame'>\n",
      "Index: 1547 entries, (any manufacturer) to ZLIN AVIATION\n",
      "Data columns (total 1 columns):\n",
      " #   Column  Non-Null Count  Dtype \n",
      "---  ------  --------------  ----- \n",
      " 0   Name    1547 non-null   object\n",
      "dtypes: object(1)\n",
      "memory usage: 24.2+ KB\n"
     ]
    }
   ],
   "source": [
    "# Load the CSV files in memory\n",
    "manufacturers = pd.read_csv(manufacturersURL, sep=',', index_col='Code').dropna()\n",
    "manufacturers.info()"
   ]
  },
  {
   "cell_type": "code",
   "execution_count": 24,
   "metadata": {},
   "outputs": [],
   "source": [
    "# Load the country codes\n",
    "# We need to convert NaN values to something else otherwise NA strings are converted to NaN -> problem with Namibia\n",
    "countries = pd.read_csv(countriesURL, sep=';', index_col='English short name lower case', keep_default_na=False, na_values=['_'])"
   ]
  },
  {
   "cell_type": "code",
   "execution_count": 25,
   "metadata": {},
   "outputs": [
    {
     "name": "stdout",
     "output_type": "stream",
     "text": [
      "CPU times: user 43.9 s, sys: 1.02 s, total: 44.9 s\n",
      "Wall time: 2min 28s\n"
     ]
    }
   ],
   "source": [
    "%%time\n",
    "#measure execution time\n",
    "\n",
    "# Iterate over the manifacturers dataframe\n",
    "for index, row in manufacturers.iterrows():\n",
    "    \n",
    "    if index == \"(any manufacturer)\" or row['Name'].startswith(\"see\"):\n",
    "        continue\n",
    "        \n",
    "    man_code = index.replace(\" \",\"\").replace(\"(\",\"\").replace(\")\",\"\")\n",
    "    \n",
    "    # Handle the name of the manufacturer \n",
    "    splits = row['Name'].split(\"(\")\n",
    "    man_name = splits[0].strip()\n",
    "    # Check manufacturer or create it\n",
    "    session.run(\"MERGE (m:Manufacturer{code: $code})\", code=man_code)\n",
    "    # Add node property\n",
    "    session.run(\"MATCH (m:Manufacturer{code: $code}) SET m.name=$name\", \n",
    "                                        code=man_code, name = man_name)\n",
    "    \n",
    "    # Handle country, find the alpha-2 code of the country\n",
    "    country = splits[1].replace(\")\",\"\").strip()\n",
    "    for ind,cntr in countries.iterrows():\n",
    "        if ind.lower() == country.lower():\n",
    "            cn = cntr['Alpha-2 code']\n",
    "            # Check country or create it\n",
    "            session.run(\"MERGE (c:Country{isocode: $isocode})\", isocode=cn)\n",
    "            #add relation\n",
    "            session.run(\"MATCH (m:Manufacturer {code: $code}),(c:Country {isocode: $iso}) \" +\n",
    "                        \"MERGE (m)-[:HASNATIONALITY]->(c)\", code=man_code, iso=cn)"
   ]
  },
  {
   "cell_type": "code",
   "execution_count": 26,
   "metadata": {},
   "outputs": [],
   "source": [
    "driver.close()"
   ]
  },
  {
   "cell_type": "markdown",
   "metadata": {
    "tags": []
   },
   "source": [
    "### Aircraft Models\n",
    "\n",
    "In this section we ingest the aircraft models. We consider two file:\n",
    "- the first contains data about the name and the numberOfSeats;\n",
    "- the second contains information about engine and manufacturer code"
   ]
  },
  {
   "cell_type": "code",
   "execution_count": 27,
   "metadata": {},
   "outputs": [],
   "source": [
    "# Connect to the DB\n",
    "driver = GraphDatabase.driver(params.uri, auth=(params.dbname, params.dbpsw))\n",
    "# Create a session\n",
    "session = driver.session()"
   ]
  },
  {
   "cell_type": "code",
   "execution_count": 28,
   "metadata": {},
   "outputs": [
    {
     "name": "stdout",
     "output_type": "stream",
     "text": [
      "<class 'pandas.core.frame.DataFrame'>\n",
      "Index: 218 entries, AT43 to T154\n",
      "Data columns (total 4 columns):\n",
      " #   Column  Non-Null Count  Dtype \n",
      "---  ------  --------------  ----- \n",
      " 0   0       218 non-null    object\n",
      " 1   2       218 non-null    object\n",
      " 2   3       218 non-null    object\n",
      " 3   4       218 non-null    object\n",
      "dtypes: object(4)\n",
      "memory usage: 8.5+ KB\n"
     ]
    }
   ],
   "source": [
    "# Load the CSV files in memory\n",
    "ac_model = pd.read_csv(aircraftURL, sep=';',header=None, index_col=1).dropna()\n",
    "ac_model.info()"
   ]
  },
  {
   "cell_type": "code",
   "execution_count": 29,
   "metadata": {},
   "outputs": [
    {
     "name": "stdout",
     "output_type": "stream",
     "text": [
      "CPU times: user 519 ms, sys: 43.9 ms, total: 562 ms\n",
      "Wall time: 8.13 s\n"
     ]
    }
   ],
   "source": [
    "%%time \n",
    "#measure execution time\n",
    "\n",
    "# Iterate over the aircraft-model dataframe\n",
    "for index, row in ac_model.iterrows():\n",
    "    if index == \"\\\\N\" or index == \"N/A\" :\n",
    "        continue\n",
    "        \n",
    "    ac_icao = index\n",
    "    ac_name = row[0]\n",
    "    \n",
    "    # Add numberOfSeats property if not null \n",
    "    if not (row[3] == \"\\\\N\" or row[3] == \"N/A\" ):\n",
    "        n_seats = int(row[3])\n",
    "        \n",
    "        # Check Aircraft Model or create it\n",
    "        session.run(\"MERGE (a:AircraftModel{icao: $icao})\", icao=ac_icao)\n",
    "        # Add Node property\n",
    "        session.run(\"MATCH (a:AircraftModel{icao: $icao}) SET a.name=$name, a.numberOfSeats=$seats\",\n",
    "                           icao=ac_icao, name = ac_name, seats = n_seats)\n",
    "    else:\n",
    "        # Check Aircraft Model or create it\n",
    "        session.run(\"MERGE (a:AircraftModel{icao: $icao})\", icao=ac_icao)\n",
    "        # Add Node property\n",
    "        session.run(\"MATCH (a:AircraftModel{icao: $icao}) SET a.name=$name\",\n",
    "                           icao=ac_icao, name = ac_name)"
   ]
  },
  {
   "cell_type": "code",
   "execution_count": 30,
   "metadata": {},
   "outputs": [
    {
     "name": "stdout",
     "output_type": "stream",
     "text": [
      "<class 'pandas.core.frame.DataFrame'>\n",
      "Index: 10020 entries, J328 to SAVG\n",
      "Data columns (total 7 columns):\n",
      " #   Column               Non-Null Count  Dtype \n",
      "---  ------               --------------  ----- \n",
      " 0   AircraftDescription  10020 non-null  object\n",
      " 1   Description          10020 non-null  object\n",
      " 2   EngineCount          10020 non-null  object\n",
      " 3   EngineType           10020 non-null  object\n",
      " 4   ManufacturerCode     10020 non-null  object\n",
      " 5   ModelFullName        10020 non-null  object\n",
      " 6   WTC                  10020 non-null  object\n",
      "dtypes: object(7)\n",
      "memory usage: 626.2+ KB\n"
     ]
    }
   ],
   "source": [
    "# Load the CSV files in memory\n",
    "ac_type = pd.read_csv(aircraftTypesURL, sep=',', index_col='Designator').dropna()\n",
    "ac_type.info()"
   ]
  },
  {
   "cell_type": "code",
   "execution_count": 31,
   "metadata": {},
   "outputs": [
    {
     "name": "stdout",
     "output_type": "stream",
     "text": [
      "CPU times: user 50.9 s, sys: 5.09 s, total: 55.9 s\n",
      "Wall time: 6min 36s\n"
     ]
    }
   ],
   "source": [
    "%%time \n",
    "#measure execution time\n",
    "\n",
    "# Iterate over the aircraft-model dataframe\n",
    "for index, row in ac_type.iterrows():\n",
    "    if index == \"\\\\N\" or index == \"N/A\" :\n",
    "        continue\n",
    "\n",
    "    ac_icao = str(index)\n",
    "    engine_type = str(row['EngineType'])\n",
    "    # Check Aircraft Model or create it\n",
    "    session.run(\"MERGE (n:AircraftModel{icao: $icao})\", icao=ac_icao)\n",
    "    # Add engine type\n",
    "    session.run(\"MATCH (n:AircraftModel{icao: $icao}) SET n.engineType=$enType\", icao=ac_icao, enType=engine_type)\n",
    "    \n",
    "    # Add the property only if EngineCount is a number\n",
    "    if(row['EngineCount'] != \"C\"): \n",
    "        engine_count = int(row['EngineCount'])\n",
    "        session.run(\"MATCH (n:AircraftModel {icao: $icao}) SET n.engineCount=$enCount\", icao=ac_icao, enCount=engine_count)\n",
    "    \n",
    "    # Find the manufacturer\n",
    "    man = row['ManufacturerCode'].replace(\" \",\"\").replace(\"(\",\"\").replace(\")\",\"\")\n",
    "    #check manufacturer or create it\n",
    "    session.run(\"MERGE (m:Manufacturer {code: $code_m})\",code_m=man)\n",
    "    # Man is the code of the manufacturer\n",
    "    session.run(\"MATCH (a:AircraftModel {icao: $icao_a}),(m:Manufacturer {code: $code_m}) \" +\n",
    "                       \"MERGE (a)-[:BUILTBY]->(m)\", icao_a=ac_icao, code_m=man)\n",
    "    "
   ]
  },
  {
   "cell_type": "code",
   "execution_count": 32,
   "metadata": {},
   "outputs": [],
   "source": [
    "driver.close()"
   ]
  },
  {
   "cell_type": "markdown",
   "metadata": {
    "tags": []
   },
   "source": [
    "### Airline Companies\n",
    "\n",
    "In this section we ingest the airline companies."
   ]
  },
  {
   "cell_type": "code",
   "execution_count": 33,
   "metadata": {},
   "outputs": [],
   "source": [
    "# Connect to the DB\n",
    "driver = GraphDatabase.driver(params.uri, auth=(params.dbname, params.dbpsw))\n",
    "# Create a session\n",
    "session = driver.session()"
   ]
  },
  {
   "cell_type": "code",
   "execution_count": 34,
   "metadata": {},
   "outputs": [
    {
     "name": "stdout",
     "output_type": "stream",
     "text": [
      "<class 'pandas.core.frame.DataFrame'>\n",
      "Index: 6281 entries, nan to ORZ\n",
      "Data columns (total 4 columns):\n",
      " #   Column          Non-Null Count  Dtype \n",
      "---  ------          --------------  ----- \n",
      " 0   # IATA          1435 non-null   object\n",
      " 1   Airline         6281 non-null   object\n",
      " 2   Call sign       5745 non-null   object\n",
      " 3   Country/Region  6270 non-null   object\n",
      "dtypes: object(4)\n",
      "memory usage: 245.4+ KB\n"
     ]
    }
   ],
   "source": [
    "# Load the CSV files in memory, we discard rows with no icao code\n",
    "airline = pd.read_csv(airlineURL, sep=',', index_col='ICAO')\n",
    "airline.info()"
   ]
  },
  {
   "cell_type": "code",
   "execution_count": 35,
   "metadata": {},
   "outputs": [
    {
     "name": "stdout",
     "output_type": "stream",
     "text": [
      "CPU times: user 2min 48s, sys: 3.98 s, total: 2min 52s\n",
      "Wall time: 9min 21s\n"
     ]
    }
   ],
   "source": [
    "%%time \n",
    "#measure execution time\n",
    "\n",
    "checklist = []\n",
    "\n",
    "# Iterate over the airline dataframe\n",
    "for index, row in airline.iterrows():\n",
    "    if index == \"nan\" or str(index).strip() == \"\":\n",
    "        continue\n",
    "    if index not in checklist:\n",
    "        checklist.append(index)\n",
    "        # ICAO code of the airline company\n",
    "        ac_icao = str(index).strip()\n",
    "        \n",
    "        # Add Airline name if available\n",
    "        if(not pd.isnull(row['Airline'])):\n",
    "            ac_name = row['Airline']\n",
    "            # Check airline or create it\n",
    "            session.run(\"MERGE (a:Airline {icao: $icao})\", icao=ac_icao)\n",
    "            # Add node property\n",
    "            session.run(\"MATCH (a:Airline {icao: $icao}) SET a.name=$name\", icao=ac_icao, name=ac_name)\n",
    "        \n",
    "        # Handle countries, find the alpha-2 code of the country (if data is available)\n",
    "        if(not pd.isnull(row['Country/Region'])):\n",
    "            country = row['Country/Region']\n",
    "            for ind,cntr in countries.iterrows():\n",
    "                if ind.lower() == country.lower():\n",
    "                    cn = cntr['Alpha-2 code']\n",
    "                    # Check country or create it\n",
    "                    session.run(\"MERGE (c:Country{isocode: $isocode})\", isocode=cn)\n",
    "                    #add relation\n",
    "                    session.run(\"MATCH (a:Airline {icao: $icao}),(c:Country {isocode: $iso}) \" +\n",
    "                               \"MERGE (a)-[:HASNATIONALITY]->(c)\", icao=ac_icao, iso=cn)\n",
    "                    "
   ]
  },
  {
   "cell_type": "code",
   "execution_count": 36,
   "metadata": {},
   "outputs": [],
   "source": [
    "driver.close()"
   ]
  },
  {
   "cell_type": "markdown",
   "metadata": {
    "tags": []
   },
   "source": [
    "### Flights\n",
    "\n",
    "We use a sample file of 100K flights."
   ]
  },
  {
   "cell_type": "code",
   "execution_count": 37,
   "metadata": {},
   "outputs": [],
   "source": [
    "# Connect to the DB\n",
    "driver = GraphDatabase.driver(params.uri, auth=(params.dbname, params.dbpsw))\n",
    "# Create a session\n",
    "session = driver.session()"
   ]
  },
  {
   "cell_type": "code",
   "execution_count": 38,
   "metadata": {},
   "outputs": [
    {
     "name": "stdout",
     "output_type": "stream",
     "text": [
      "<class 'pandas.core.frame.DataFrame'>\n",
      "Int64Index: 100000 entries, 227743250 to 227849442\n",
      "Data columns (total 17 columns):\n",
      " #   Column                      Non-Null Count   Dtype  \n",
      "---  ------                      --------------   -----  \n",
      " 0   ADEP                        100000 non-null  object \n",
      " 1   ADEP Latitude               99846 non-null   float64\n",
      " 2   ADEP Longitude              99846 non-null   float64\n",
      " 3   ADES                        100000 non-null  object \n",
      " 4   ADES Latitude               99844 non-null   float64\n",
      " 5   ADES Longitude              99844 non-null   float64\n",
      " 6   FILED OFF BLOCK TIME        100000 non-null  object \n",
      " 7   FILED ARRIVAL TIME          100000 non-null  object \n",
      " 8   ACTUAL OFF BLOCK TIME       100000 non-null  object \n",
      " 9   ACTUAL ARRIVAL TIME         100000 non-null  object \n",
      " 10  AC Type                     100000 non-null  object \n",
      " 11  AC Operator                 100000 non-null  object \n",
      " 12  AC Registration             99638 non-null   object \n",
      " 13  ICAO Flight Type            100000 non-null  object \n",
      " 14  STATFOR Market Segment      100000 non-null  object \n",
      " 15  Requested FL                99992 non-null   float64\n",
      " 16  Actual Distance Flown (nm)  100000 non-null  int64  \n",
      "dtypes: float64(5), int64(1), object(11)\n",
      "memory usage: 13.7+ MB\n"
     ]
    }
   ],
   "source": [
    "# Load the CSV files in memory\n",
    "flights = pd.read_csv(sampledFlightsURL, sep=',', index_col='ECTRL ID')\n",
    "flights.info()"
   ]
  },
  {
   "cell_type": "code",
   "execution_count": 39,
   "metadata": {},
   "outputs": [
    {
     "name": "stdout",
     "output_type": "stream",
     "text": [
      "added the first 1K flights\n",
      "*** Added 10K flights ***\n",
      "*** Added 10K flights ***\n",
      "*** Added 10K flights ***\n",
      "*** Added 10K flights ***\n",
      "*** Added 10K flights ***\n",
      "*** Added 10K flights ***\n",
      "*** Added 10K flights ***\n",
      "*** Added 10K flights ***\n",
      "*** Added 10K flights ***\n",
      "*** Added 10K flights ***\n",
      "***\n",
      "*** ADDED IN TOTAL 100000 FLIGHTS ***\n",
      "***\n",
      "CPU times: user 24min 17s, sys: 2min 11s, total: 26min 28s\n",
      "Wall time: 6h 7min 32s\n"
     ]
    }
   ],
   "source": [
    "%%time \n",
    "#measure execution time\n",
    "\n",
    "count = 0\n",
    "\n",
    "# Iterate over the flights dataframe\n",
    "for index, row in flights.iterrows():\n",
    "        \n",
    "    count += 1\n",
    "    # Create the flight\n",
    "    session.run(\"MERGE (f:Flight{id: $ectrl})\", ectrl=str(index))\n",
    "    \n",
    "    # Extracting the properties\n",
    "    mkt = str(row['STATFOR Market Segment'])\n",
    "    dist = int(row['Actual Distance Flown (nm)'])\n",
    "    # Add node properties\n",
    "    session.run(\"MATCH (f:Flight{id: $ectrl}) SET f.marketSegment=$mkt, f.distance=$dist\", \n",
    "                       ectrl=str(index), mkt=mkt, dist=dist)\n",
    "    \n",
    "    # Put timestamps in the right dateTime format\n",
    "    fob = datetime.strptime(str(row['FILED OFF BLOCK TIME']),'%d-%m-%Y %H:%M:%S',).strftime('%Y-%m-%dT%H:%M:%S')\n",
    "    far = datetime.strptime(str(row['FILED ARRIVAL TIME']),'%d-%m-%Y %H:%M:%S',).strftime('%Y-%m-%dT%H:%M:%S')\n",
    "    aob = datetime.strptime(str(row['ACTUAL OFF BLOCK TIME']),'%d-%m-%Y %H:%M:%S',).strftime('%Y-%m-%dT%H:%M:%S')\n",
    "    arr = datetime.strptime(str(row['ACTUAL ARRIVAL TIME']),'%d-%m-%Y %H:%M:%S',).strftime('%Y-%m-%dT%H:%M:%S')\n",
    "    \n",
    "    # Handle airports, discard unknown airports\n",
    "    if(not (str(row['ADEP'])=='ZZZZ')):\n",
    "        adep = str(row['ADEP'])\n",
    "        # check airport or create it\n",
    "        session.run(\"MERGE (a:Airport{icao: $icao})\", icao=adep)\n",
    "        # create the relationship\n",
    "        session.run(\"MATCH (a:Airport{icao: $icao}),(f:Flight{id: $ectrl}) \" +\n",
    "                   \"MERGE (f)-[:DEPARTS]->(a)\", icao=adep, ectrl=str(index))\n",
    "        # Add relationship property \n",
    "        session.run(\"MATCH (:Flight{id: $ectrl})-[d:DEPARTS]->(:Airport{icao: $icao}) \" +\n",
    "                   \"SET d.filedOffBlock=datetime($fob), d.actualOffBlock=datetime($aob)\",\n",
    "                        icao=adep, ectrl=str(index), fob=fob, aob=aob)\n",
    "    # Same for destination    \n",
    "    if(not (str(row['ADES'])=='ZZZZ')):\n",
    "        ades = str(row['ADES'])\n",
    "        session.run(\"MERGE (a:Airport{icao: $icao})\", icao=ades)\n",
    "        # create the relationship\n",
    "        session.run(\"MATCH (a:Airport{icao: $icao}),(f:Flight{id: $ectrl}) \" +\n",
    "                   \"MERGE (f)-[:ARRIVES]->(a)\", icao=ades, ectrl=str(index))\n",
    "        # Add relationship property \n",
    "        session.run(\"MATCH (:Flight{id: $ectrl})-[a:ARRIVES]->(:Airport{icao: $icao}) \" +\n",
    "                   \"SET a.filedArrival=datetime($far), a.actualArrival=datetime($arr)\",\n",
    "                        icao=ades, ectrl=str(index), far=far, arr=arr)\n",
    "        \n",
    "    ## Handle airline, discard unknown operator\n",
    "    if(not (str(row['AC Operator'])=='ZZZ')):\n",
    "        airline = str(row['AC Operator'])\n",
    "        # Check airline or create it\n",
    "        session.run(\"MERGE (a:Airline{icao: $icao})\", icao=airline)\n",
    "        # Create the relationship\n",
    "        session.run(\"MATCH (a:Airline{icao: $icao}),(f:Flight{id: $ectrl}) \" +\n",
    "                    \"MERGE (f)-[:PERFORMEDBY]->(a)\", icao=airline, ectrl=str(index))\n",
    "           \n",
    "    # Handle aircraft models, discard unknwon data\n",
    "    if(not (str(row['AC Type'])=='ZZZZ')):\n",
    "        model = str(row['AC Type'])\n",
    "        # Check aircraft model or create it\n",
    "        session.run(\"MERGE (a:AircraftModel{icao: $icao})\", icao=model)\n",
    "        # Create the relationship\n",
    "        session.run(\"MATCH (a:AircraftModel{icao: $icao}),(f:Flight{id: $ectrl}) \" +\n",
    "                   \"MERGE (a)-[:USEDBY]->(f)\", icao=model, ectrl=str(index))\n",
    "        # Add relationship property about the specific aircraft, if data is available   \n",
    "        if(not pd.isnull(row['AC Registration'])):\n",
    "            ac = str(row['AC Registration'])\n",
    "            session.run(\"MATCH (a:AircraftModel{icao: $icao})-[p:USEDBY]->(f:Flight{id: $ectrl}) \" +\n",
    "                            \"SET p.registration = $ac\", icao=model, ectrl=str(index), ac=ac)\n",
    "                \n",
    "    # Diagnostics to keep track of progress\n",
    "    if(count == 1000): print(\"added the first 1K flights\")\n",
    " \n",
    "    if(count%10000 == 0): print(\"*** Added 10K flights ***\")\n",
    "\n",
    "        \n",
    "print('***')        \n",
    "print('*** ADDED IN TOTAL ' + str(count) + ' FLIGHTS ***')\n",
    "print('***')\n"
   ]
  },
  {
   "cell_type": "code",
   "execution_count": 40,
   "metadata": {},
   "outputs": [],
   "source": [
    "driver.close()"
   ]
  },
  {
   "cell_type": "markdown",
   "metadata": {
    "tags": []
   },
   "source": [
    "### Flight Information Regions (FIRs)"
   ]
  },
  {
   "cell_type": "markdown",
   "metadata": {},
   "source": [
    "#### Flights-FIRs\n",
    "\n",
    "We use a sample of 100K flights from the file containing March flights in order to reduce the computational time. For this reason, we use a sampled file for FIRs as well."
   ]
  },
  {
   "cell_type": "code",
   "execution_count": 41,
   "metadata": {},
   "outputs": [],
   "source": [
    "# Connect to the DB\n",
    "driver = GraphDatabase.driver(params.uri, auth=(params.dbname, params.dbpsw))\n",
    "# Create a session\n",
    "session = driver.session()"
   ]
  },
  {
   "cell_type": "code",
   "execution_count": 42,
   "metadata": {},
   "outputs": [
    {
     "name": "stdout",
     "output_type": "stream",
     "text": [
      "<class 'pandas.core.frame.DataFrame'>\n",
      "RangeIndex: 773544 entries, 0 to 773543\n",
      "Data columns (total 5 columns):\n",
      " #   Column           Non-Null Count   Dtype \n",
      "---  ------           --------------   ----- \n",
      " 0   ECTRL ID         773544 non-null  int64 \n",
      " 1   Sequence Number  773544 non-null  int64 \n",
      " 2   FIR ID           773544 non-null  object\n",
      " 3   Entry Time       773544 non-null  object\n",
      " 4   Exit Time        773544 non-null  object\n",
      "dtypes: int64(2), object(3)\n",
      "memory usage: 29.5+ MB\n"
     ]
    }
   ],
   "source": [
    "# Load the CSV files in memory\n",
    "firs = pd.read_csv(sampledFIRsURL, sep=',')\n",
    "firs.info()"
   ]
  },
  {
   "cell_type": "code",
   "execution_count": 43,
   "metadata": {},
   "outputs": [
    {
     "name": "stdout",
     "output_type": "stream",
     "text": [
      "added the first 1K checkpoints\n",
      "*** 100k Checkpoints Added ***\n",
      "*** 100k Checkpoints Added ***\n",
      "*** 100k Checkpoints Added ***\n",
      "*** 100k Checkpoints Added ***\n",
      "*** 100k Checkpoints Added ***\n",
      "*** 100k Checkpoints Added ***\n",
      "*** 100k Checkpoints Added ***\n",
      "***\n",
      "*** ADDED IN TOTAL 773544 CHECKPOINTS ***\n",
      "***\n",
      "CPU times: user 43min 15s, sys: 4min 10s, total: 47min 25s\n",
      "Wall time: 13h 2min 25s\n"
     ]
    }
   ],
   "source": [
    "%%time \n",
    "#measure execution time\n",
    "\n",
    "# Iterate over the FIRs dataframe\n",
    "for index, row in firs.iterrows():\n",
    "        \n",
    "    # Extracting the properties\n",
    "    flight = str(row['ECTRL ID'])\n",
    "    fir = str(row['FIR ID'])\n",
    "    seq = int(row['Sequence Number'])\n",
    "    \n",
    "    #find the type of the airspace\n",
    "    air_type = \"FIR\"\n",
    "    if fir.endswith(\"FIR\"):\n",
    "        fir = fir.replace(\"FIR\",\"\")\n",
    "    if fir.endswith(\"UIR\"):\n",
    "        air_type = \"UIR\"\n",
    "        fir = fir.replace(\"UIR\",\"\")\n",
    "    \n",
    "    # Put timestamps in the right dateTime format\n",
    "    intime = datetime.strptime(str(row['Entry Time']),'%d-%m-%Y %H:%M:%S',).strftime('%Y-%m-%dT%H:%M:%S')\n",
    "    outtime = datetime.strptime(str(row['Exit Time']),'%d-%m-%Y %H:%M:%S',).strftime('%Y-%m-%dT%H:%M:%S')\n",
    "    \n",
    "    # Check flight or create it\n",
    "    session.run(\"MERGE (f:Flight{id: $ectrl})\", ectrl=flight)\n",
    "    # Check FIR or create it\n",
    "    session.run(\"MERGE (f:Airspace{icao: $icao, type: $ty})\", icao=fir, ty=air_type)\n",
    "    # Create the relationship\n",
    "    session.run(\"MATCH (fr:Airspace{icao: $icao, type: $ty}),(fl:Flight{id: $ectrl}) \" +\n",
    "                \"MERGE (fl)-[:TRAVERS]->(fr)\", icao=fir, ty=air_type, ectrl=flight)\n",
    "    # Add relationship properties\n",
    "    session.run(\"MATCH (:Flight{id: $ectrl})-[t:TRAVERS]->(:Airspace{icao: $icao, type: $ty})\" +\n",
    "                \"SET t.sequence=$seq, t.entryTime=datetime($entry), t.exitTime=datetime($out)\", \n",
    "                icao=fir, ty=air_type, ectrl=flight, seq=seq, entry=intime, out=outtime)\n",
    "    \n",
    "\n",
    "    #Diagnostics to keep track of progress\n",
    "    if(index+1 == 1000): print(\"added the first 1K checkpoints\")\n",
    "             \n",
    "    if((index+1)%100000==0): print(\"*** 100k Checkpoints Added ***\")\n",
    "                                  \n",
    "        \n",
    "print('***')        \n",
    "print('*** ADDED IN TOTAL ' + str(index+1) + ' CHECKPOINTS ***')\n",
    "print('***')\n"
   ]
  },
  {
   "cell_type": "code",
   "execution_count": 44,
   "metadata": {},
   "outputs": [],
   "source": [
    "driver.close()"
   ]
  },
  {
   "cell_type": "markdown",
   "metadata": {
    "tags": []
   },
   "source": [
    "### FIRs coordinates"
   ]
  },
  {
   "cell_type": "code",
   "execution_count": 45,
   "metadata": {},
   "outputs": [],
   "source": [
    "# Connect to the DB\n",
    "driver = GraphDatabase.driver(params.uri, auth=(params.dbname, params.dbpsw))\n",
    "# Create a session\n",
    "session = driver.session()"
   ]
  },
  {
   "cell_type": "code",
   "execution_count": 46,
   "metadata": {},
   "outputs": [
    {
     "name": "stdout",
     "output_type": "stream",
     "text": [
      "<class 'pandas.core.frame.DataFrame'>\n",
      "RangeIndex: 20086 entries, 0 to 20085\n",
      "Data columns (total 6 columns):\n",
      " #   Column            Non-Null Count  Dtype  \n",
      "---  ------            --------------  -----  \n",
      " 0   Airspace ID       20086 non-null  object \n",
      " 1   Min Flight Level  20086 non-null  int64  \n",
      " 2   Max Flight Level  20086 non-null  int64  \n",
      " 3   Sequence Number   20086 non-null  int64  \n",
      " 4   Latitude          20086 non-null  float64\n",
      " 5   Longitude         20086 non-null  float64\n",
      "dtypes: float64(2), int64(3), object(1)\n",
      "memory usage: 941.7+ KB\n"
     ]
    }
   ],
   "source": [
    "# Load the CSV files in memory\n",
    "firCoord = pd.read_csv(firCoordURL, sep=',',  keep_default_na=False, na_values=['_'])\n",
    "firCoord.info()"
   ]
  },
  {
   "cell_type": "code",
   "execution_count": 47,
   "metadata": {},
   "outputs": [
    {
     "name": "stdout",
     "output_type": "stream",
     "text": [
      "CPU times: user 35.3 s, sys: 3.37 s, total: 38.6 s\n",
      "Wall time: 8min 51s\n"
     ]
    }
   ],
   "source": [
    "%%time \n",
    "#measure execution time\n",
    "\n",
    "# Iterate over the fir coordinates dataframe\n",
    "dictionary = {}\n",
    "for index in range(0,len(firCoord)):\n",
    "    \n",
    "    #get every information needed\n",
    "    air_id = firCoord['Airspace ID'][index]\n",
    "    seq = int(firCoord['Sequence Number'][index])\n",
    "    latitude = firCoord['Latitude'][index]\n",
    "    longitude = firCoord['Longitude'][index]\n",
    "    \n",
    "    if air_id not in dictionary:\n",
    "        dictionary[air_id] = seq\n",
    "    elif seq == dictionary[air_id]:\n",
    "        continue\n",
    "    else:\n",
    "        dictionary[air_id] = seq\n",
    "        \n",
    "    #find the type of the airspace\n",
    "    air_type = \"FIR\"\n",
    "    if air_id.endswith(\"FIR\"):\n",
    "        air_id = air_id.replace(\"FIR\",\"\")\n",
    "    if air_id.endswith(\"UIR\"):\n",
    "        air_type = \"UIR\"\n",
    "        air_id = air_id.replace(\"UIR\",\"\")\n",
    "        \n",
    "    \n",
    "    # check fir or create it\n",
    "    session.run(\"MERGE (f:Airspace{icao: $icao, type:$ty})\", icao=air_id, ty=air_type)\n",
    "    # Set relation with data property\n",
    "    session.run(\"MATCH (f:Airspace{icao: $icao, type:$ty}) \" +\n",
    "                \"MERGE (f)-[:BOUNDARYPOINT{sequence: $sequence, \" +\n",
    "                \"coordinates: point({latitude: $lat, longitude: $long, crs: 'wgs-84'})}]->(f)\", \n",
    "                icao=air_id, ty=air_type, sequence=seq, lat=latitude, long=longitude)\n"
   ]
  },
  {
   "cell_type": "code",
   "execution_count": 48,
   "metadata": {},
   "outputs": [],
   "source": [
    "driver.close()"
   ]
  },
  {
   "cell_type": "markdown",
   "metadata": {},
   "source": [
    "#### FIRs data from Wikipedia\n",
    "\n",
    "Here we ingest the information about FIRs contained in the file scraped from Wikipedia."
   ]
  },
  {
   "cell_type": "code",
   "execution_count": 7,
   "metadata": {},
   "outputs": [],
   "source": [
    "# Connect to the DB\n",
    "driver = GraphDatabase.driver(params.uri, auth=(params.dbname, params.dbpsw))\n",
    "# Create a session\n",
    "session = driver.session()"
   ]
  },
  {
   "cell_type": "code",
   "execution_count": 8,
   "metadata": {},
   "outputs": [
    {
     "name": "stdout",
     "output_type": "stream",
     "text": [
      "<class 'pandas.core.frame.DataFrame'>\n",
      "Index: 306 entries, AGGG to ZYSH\n",
      "Data columns (total 3 columns):\n",
      " #   Column    Non-Null Count  Dtype \n",
      "---  ------    --------------  ----- \n",
      " 0   Type      306 non-null    object\n",
      " 1   ACC_name  306 non-null    object\n",
      " 2   country   306 non-null    object\n",
      "dtypes: object(3)\n",
      "memory usage: 9.6+ KB\n",
      "<class 'pandas.core.frame.DataFrame'>\n",
      "Index: 246 entries, Afghanistan to Zimbabwe\n",
      "Data columns (total 4 columns):\n",
      " #   Column        Non-Null Count  Dtype \n",
      "---  ------        --------------  ----- \n",
      " 0   Alpha-2 code  246 non-null    object\n",
      " 1   Alpha-3 code  246 non-null    object\n",
      " 2   Numeric code  246 non-null    int64 \n",
      " 3   ISO 3166-2    246 non-null    object\n",
      "dtypes: int64(1), object(3)\n",
      "memory usage: 9.6+ KB\n"
     ]
    }
   ],
   "source": [
    "# Load the CSV files in memory\n",
    "fir_wiki = pd.read_csv(firWikiUrl, sep=',', index_col=0).dropna()\n",
    "fir_wiki.info()\n",
    "countries = pd.read_csv(countriesURL, sep=';', index_col='English short name lower case', keep_default_na=False, na_values=['_'])\n",
    "countries.info()"
   ]
  },
  {
   "cell_type": "code",
   "execution_count": 9,
   "metadata": {},
   "outputs": [
    {
     "name": "stdout",
     "output_type": "stream",
     "text": [
      "CPU times: user 4.61 s, sys: 86.4 ms, total: 4.69 s\n",
      "Wall time: 9.69 s\n"
     ]
    }
   ],
   "source": [
    "%%time \n",
    "#measure execution time\n",
    "\n",
    "# Iterate over the fir_wiki dataframe\n",
    "for index, row in fir_wiki.iterrows():\n",
    "    \n",
    "    acc_name = row['ACC_name']\n",
    "    air_type = row['Type']\n",
    "    \n",
    "    # Create the FIR \n",
    "    session.run(\"MERGE (f:Airspace {icao: $icao, type: $ty})\", icao=index, ty=air_type)\n",
    "    # Add node property\n",
    "    session.run(\"MATCH (f:Airspace {icao: $icao, type: $ty}) SET f.name=$name\", icao=index, ty=air_type, name=acc_name)\n",
    "\n",
    "    # Handle countries, find the alpha-2 code of the country\n",
    "    country = row['country']\n",
    "    for ind,cntr in countries.iterrows():\n",
    "        if ind.lower() == country.lower():\n",
    "            cn = cntr['Alpha-2 code']\n",
    "            # Check country or create it\n",
    "            session.run(\"MERGE (c:Country{isocode: $iso})\", iso=cn)\n",
    "            session.run(\"MATCH (f:Airspace {icao: $icao, type: $ty}),(c:Country {isocode: $iso}) \" +\n",
    "                       \"MERGE (f)-[:BELONGSTO]->(c)\", icao=index, ty=air_type, iso=cn)\n",
    "    #try to add a name to a UIR if exists an airspace that is a FIR with the same ICAO code\n",
    "    if air_type == \"FIR\":\n",
    "        session.run(\"MATCH (f:Airspace {icao: $icao, type: $ty}) SET f.name=$name\", icao=index, ty=\"UIR\", name=acc_name)\n",
    "\n",
    "        # Handle countries, find the alpha-2 code of the country\n",
    "        country = row['country']\n",
    "        for ind,cntr in countries.iterrows():\n",
    "            if ind.lower() == country.lower():\n",
    "                cn = cntr['Alpha-2 code']\n",
    "                # Check country or create it\n",
    "                session.run(\"MERGE (c:Country{isocode: $iso})\", iso=cn)\n",
    "                session.run(\"MATCH (f:Airspace {icao: $icao, type: $ty}),(c:Country {isocode: $iso}) \" +\n",
    "                           \"MERGE (f)-[:BELONGSTO]->(c)\", icao=index, ty=\"UIR\", iso=cn)"
   ]
  },
  {
   "cell_type": "code",
   "execution_count": 10,
   "metadata": {},
   "outputs": [],
   "source": [
    "driver.close()"
   ]
  },
  {
   "cell_type": "code",
   "execution_count": null,
   "metadata": {},
   "outputs": [],
   "source": []
  }
 ],
 "metadata": {
  "kernelspec": {
   "display_name": "Python 3 (ipykernel)",
   "language": "python",
   "name": "python3"
  },
  "language_info": {
   "codemirror_mode": {
    "name": "ipython",
    "version": 3
   },
   "file_extension": ".py",
   "mimetype": "text/x-python",
   "name": "python",
   "nbconvert_exporter": "python",
   "pygments_lexer": "ipython3",
   "version": "3.9.7"
  }
 },
 "nbformat": 4,
 "nbformat_minor": 4
}
