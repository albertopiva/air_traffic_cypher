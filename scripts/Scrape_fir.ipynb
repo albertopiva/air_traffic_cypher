{
 "cells": [
  {
   "cell_type": "markdown",
   "metadata": {},
   "source": [
    "# Scrape FIR information\n",
    "\n",
    "With this notebook we retrieve the informations about FIRs (Flight Information Region) from wikipedia."
   ]
  },
  {
   "cell_type": "code",
   "execution_count": 1,
   "metadata": {},
   "outputs": [],
   "source": [
    "from bs4 import BeautifulSoup\n",
    "import numpy as np\n",
    "from datetime import datetime\n",
    "import time\n",
    "import urllib.request"
   ]
  },
  {
   "cell_type": "markdown",
   "metadata": {},
   "source": [
    "Request the html code of the page and parse it with BeutifoulSoup (HTML parser)"
   ]
  },
  {
   "cell_type": "code",
   "execution_count": 2,
   "metadata": {},
   "outputs": [],
   "source": [
    "fp = urllib.request.urlopen(\"https://en.wikipedia.org/wiki/Flight_information_region\")\n",
    "mybytes = fp.read()\n",
    "\n",
    "html = mybytes.decode(\"utf8\")\n",
    "fp.close()\n",
    "soup = BeautifulSoup(html)"
   ]
  },
  {
   "cell_type": "markdown",
   "metadata": {},
   "source": [
    "Find the information with soup and store them in a matrix.\n",
    "\n",
    "### IMPORTANT\n",
    "In wikipedia there are 5 columns (ICAO, Type, ACC name, Oceania Subtype, Country/Territory) but we are\n",
    "interested only in 4 of these, that are ICAO, Type, ACC name and country."
   ]
  },
  {
   "cell_type": "code",
   "execution_count": 3,
   "metadata": {},
   "outputs": [
    {
     "name": "stdout",
     "output_type": "stream",
     "text": [
      "309\n",
      "(308, 4)\n"
     ]
    }
   ],
   "source": [
    "table = soup.find(\"table\", recursive=True)\n",
    "caption = table.find(\"caption\",recursive =True)\n",
    "\n",
    "header = [\"ICAO\",\"Type\",\"ACC_name\",\"country\"]\n",
    "'''\n",
    "Order of tds\n",
    "ICAO\n",
    "Type\n",
    "ACC name (Area control centre)\n",
    "Oceanica subtype\n",
    "Country/Territory\n",
    "'''\n",
    "\n",
    "tbody = table.find(\"tbody\",recursive=True)\n",
    "trs = tbody.find_all(\"tr\",recursive=True)\n",
    "i=0\n",
    "rows = 0\n",
    "#data = np.empty((1,6))\n",
    "print(len(trs))\n",
    "data = np.empty(0)\n",
    "for tr in trs:\n",
    "    #first tr is the header\n",
    "    if i==0:\n",
    "        i+=1\n",
    "    else:\n",
    "        tds = tr.find_all(\"td\",recursive=True)\n",
    "        line = []\n",
    "        j=0\n",
    "        for td in tds:\n",
    "            valid = True\n",
    "            if j == len(tds)-1:\n",
    "                text = td.find(\"a\",recursive = True).getText().strip()\n",
    "                if text.startswith(\"Congo\"):\n",
    "                    text = \"Congo\"\n",
    "            elif j!=3:\n",
    "                text = td.getText().replace(\"\\n\",\"\").replace(\",\",\";\")\n",
    "                \n",
    "            else:\n",
    "                valid = False\n",
    "            if valid:\n",
    "                line.append(text)\n",
    "            j+=1\n",
    "        data = np.append(data,line)\n",
    "        rows+=1\n",
    "        data = data.reshape(rows,4)\n",
    "\n",
    "data = data.reshape(rows,4)\n",
    "print(data.shape)"
   ]
  },
  {
   "cell_type": "code",
   "execution_count": 4,
   "metadata": {},
   "outputs": [
    {
     "name": "stdout",
     "output_type": "stream",
     "text": [
      "(308, 4)\n"
     ]
    }
   ],
   "source": [
    "#save to csv\n",
    "head = ','.join(header)\n",
    "print(data.shape)\n",
    "np.savetxt('fir_wiki.csv', data, header=head, fmt=['%s','%s','%s','%s'],delimiter=',')"
   ]
  },
  {
   "cell_type": "code",
   "execution_count": null,
   "metadata": {},
   "outputs": [],
   "source": []
  },
  {
   "cell_type": "code",
   "execution_count": null,
   "metadata": {},
   "outputs": [],
   "source": []
  }
 ],
 "metadata": {
  "kernelspec": {
   "display_name": "Python 3 (ipykernel)",
   "language": "python",
   "name": "python3"
  },
  "language_info": {
   "codemirror_mode": {
    "name": "ipython",
    "version": 3
   },
   "file_extension": ".py",
   "mimetype": "text/x-python",
   "name": "python",
   "nbconvert_exporter": "python",
   "pygments_lexer": "ipython3",
   "version": "3.9.7"
  }
 },
 "nbformat": 4,
 "nbformat_minor": 4
}
